{
  "nbformat": 4,
  "nbformat_minor": 0,
  "metadata": {
    "colab": {
      "name": "Estadisticas del lenguaje.ipynb",
      "provenance": [],
      "authorship_tag": "ABX9TyMUFdwNAXTgnBdW4cnrVJDI",
      "include_colab_link": true
    },
    "kernelspec": {
      "name": "python3",
      "display_name": "Python 3"
    },
    "language_info": {
      "name": "python"
    }
  },
  "cells": [
    {
      "cell_type": "markdown",
      "metadata": {
        "id": "view-in-github",
        "colab_type": "text"
      },
      "source": [
        "<a href=\"https://colab.research.google.com/github/Zaier9/Procesamiento-del-lenguaje-natural/blob/master/Estadisticas_del_lenguaje.ipynb\" target=\"_parent\"><img src=\"https://colab.research.google.com/assets/colab-badge.svg\" alt=\"Open In Colab\"/></a>"
      ]
    },
    {
      "cell_type": "markdown",
      "metadata": {
        "id": "XC_HhV-2P2Wl"
      },
      "source": [
        "# Configuracion inicial\n",
        "\n",
        "*   En este notebook vamos a descargar el dataset book que contiene muchos libros en inglés en formato de texto tokenizado, de los cuales vamos a hacer procesamiento."
      ]
    },
    {
      "cell_type": "code",
      "metadata": {
        "id": "BLP78ex6Pq9P"
      },
      "source": [
        "import nltk\n",
        "nltk.download('book')\n",
        "from nltk.book import *\n",
        "import matplotlib.pyplot as plt\n",
        "import numpy as np"
      ],
      "execution_count": null,
      "outputs": []
    },
    {
      "cell_type": "markdown",
      "metadata": {
        "id": "1YqtE_1SQz52"
      },
      "source": [
        "# Analizando texto"
      ]
    },
    {
      "cell_type": "code",
      "metadata": {
        "colab": {
          "base_uri": "https://localhost:8080/"
        },
        "id": "qdoYBAePQmUV",
        "outputId": "5a732c2d-ea6c-4851-fb71-14abc3e7eefe"
      },
      "source": [
        "text1"
      ],
      "execution_count": 28,
      "outputs": [
        {
          "output_type": "execute_result",
          "data": {
            "text/plain": [
              "<Text: Moby Dick by Herman Melville 1851>"
            ]
          },
          "metadata": {},
          "execution_count": 28
        }
      ]
    },
    {
      "cell_type": "code",
      "metadata": {
        "colab": {
          "base_uri": "https://localhost:8080/"
        },
        "id": "aDtiMnBZQ6Kx",
        "outputId": "69381ffc-b897-422a-c65d-c5c13e72bb73"
      },
      "source": [
        "text1.tokens[:10]"
      ],
      "execution_count": 29,
      "outputs": [
        {
          "output_type": "execute_result",
          "data": {
            "text/plain": [
              "['[',\n",
              " 'Moby',\n",
              " 'Dick',\n",
              " 'by',\n",
              " 'Herman',\n",
              " 'Melville',\n",
              " '1851',\n",
              " ']',\n",
              " 'ETYMOLOGY',\n",
              " '.']"
            ]
          },
          "metadata": {},
          "execution_count": 29
        }
      ]
    },
    {
      "cell_type": "code",
      "metadata": {
        "colab": {
          "base_uri": "https://localhost:8080/"
        },
        "id": "LDyRBZmTRCYL",
        "outputId": "7a990523-6159-4474-fb63-a7e76250365d"
      },
      "source": [
        "len(text1)"
      ],
      "execution_count": 30,
      "outputs": [
        {
          "output_type": "execute_result",
          "data": {
            "text/plain": [
              "260819"
            ]
          },
          "metadata": {},
          "execution_count": 30
        }
      ]
    },
    {
      "cell_type": "markdown",
      "metadata": {
        "id": "UJGpYWVNRSjo"
      },
      "source": [
        "# Medida de riqueza lexica en un texto:\n",
        "            total de palabras únicas   longitud de vocabuliario\n",
        "      R1   _________________________ = _________________________\n",
        "            total de plabaras             longitud de texto"
      ]
    },
    {
      "cell_type": "code",
      "metadata": {
        "colab": {
          "base_uri": "https://localhost:8080/"
        },
        "id": "qv4OJrQ2RL7y",
        "outputId": "90e87503-d9e4-4b3b-af4a-c2405c3189fc"
      },
      "source": [
        "# Primero realizamos la construccion de un vocabulario(identificamos las palabras unicas que hay en el libro)\n",
        "# https://docs.python.org/2/library/sets.html\n",
        "vocabulario = sorted(set(text1))\n",
        "print(vocabulario[1000:1050])"
      ],
      "execution_count": 31,
      "outputs": [
        {
          "output_type": "stream",
          "name": "stdout",
          "text": [
            "['Crew', 'Crish', 'Crockett', 'Cross', 'Crossed', 'Crossing', 'Crotch', 'Crowding', 'Crown', 'Crozetts', 'Cruelty', 'Cruising', 'Cruppered', 'Crusaders', 'Crushed', 'Crying', 'Cuba', 'Curious', 'Curse', 'Cursed', 'Curses', 'Cussed', 'Customs', 'Cut', 'Cutter', 'Cutting', 'Cuvier', 'Cyclades', 'Czar', 'D', 'DAGGOO', 'DAM', 'DANCE', 'DANCING', 'DANIEL', 'DANISH', 'DARKENS', 'DARWIN', 'DAVENANT', 'DEAD', 'DEATH', 'DEBELL', 'DECK', 'DEL', 'DESTROYED', 'DEVIL', 'DICTIONARY', 'DID', 'DIGNITY', 'DISCOVERS']\n"
          ]
        }
      ]
    },
    {
      "cell_type": "code",
      "metadata": {
        "colab": {
          "base_uri": "https://localhost:8080/"
        },
        "id": "1MquROSTVh4f",
        "outputId": "d73579d8-520e-429b-f3f0-3d0a0acba006"
      },
      "source": [
        "# rl = Riqueza Lexica\n",
        "rl = len(vocabulario) / len(text1)\n",
        "print(rl)"
      ],
      "execution_count": 32,
      "outputs": [
        {
          "output_type": "stream",
          "name": "stdout",
          "text": [
            "0.07406285585022564\n"
          ]
        }
      ]
    },
    {
      "cell_type": "code",
      "metadata": {
        "colab": {
          "base_uri": "https://localhost:8080/"
        },
        "id": "581xT6-FV6aN",
        "outputId": "ec1c856a-a06d-41de-c512-24ee6832fcb5"
      },
      "source": [
        "def riqueza_lexica(texto):\n",
        "  vocabulario = sorted(set(text1))\n",
        "  return len(vocabulario) / len(texto)\n",
        "\n",
        "riqueza_lexica(text1)"
      ],
      "execution_count": 33,
      "outputs": [
        {
          "output_type": "execute_result",
          "data": {
            "text/plain": [
              "0.07406285585022564"
            ]
          },
          "metadata": {},
          "execution_count": 33
        }
      ]
    },
    {
      "cell_type": "code",
      "metadata": {
        "colab": {
          "base_uri": "https://localhost:8080/"
        },
        "id": "tv-rAIJdZ2fO",
        "outputId": "d684d670-bcbe-43ff-a24b-6e7a80dde8ed"
      },
      "source": [
        "def porcentaje_palabra(palabra, texto):\n",
        "  return 100*texto.count(palabra)/len(texto)\n",
        "\n",
        "porcentaje_palabra('monster', text1)"
      ],
      "execution_count": 34,
      "outputs": [
        {
          "output_type": "execute_result",
          "data": {
            "text/plain": [
              "0.018786974875296663"
            ]
          },
          "metadata": {},
          "execution_count": 34
        }
      ]
    },
    {
      "cell_type": "code",
      "metadata": {
        "colab": {
          "base_uri": "https://localhost:8080/"
        },
        "id": "6ooz4ETZkD12",
        "outputId": "c541606d-3a62-4977-b6ab-4fae5f0126b2"
      },
      "source": [
        "text1.count('monster')"
      ],
      "execution_count": 35,
      "outputs": [
        {
          "output_type": "execute_result",
          "data": {
            "text/plain": [
              "49"
            ]
          },
          "metadata": {},
          "execution_count": 35
        }
      ]
    },
    {
      "cell_type": "markdown",
      "metadata": {
        "id": "GwAk2fGWkXfm"
      },
      "source": [
        "# Estadistica del Lenguaje\n",
        "\n",
        "Los cálculos estadísticos más simples que se pueden efectuar sobre un texto o un corpus son los relacionados con frecuencia de aparición de palabras.\n",
        "\n",
        "\n",
        "*   Podemos construir un diccionario en Python donde las llaves sean las palabras y los valores sean las frecuencias de ocurrencias de esas palabras.\n",
        "*   Ejemplo dic = {'monster': 49, 'boat': 54, ...}\n",
        "\n"
      ]
    },
    {
      "cell_type": "code",
      "metadata": {
        "id": "ZKyXPr_NkVoO"
      },
      "source": [
        "# El ciclo for tiene un costo computacional alto, no es recomedable\n",
        "dic = {}\n",
        "for palabra in set(text1):\n",
        "  dic[palabra] = text1.count(palabra)\n",
        "dic"
      ],
      "execution_count": null,
      "outputs": []
    },
    {
      "cell_type": "markdown",
      "metadata": {
        "id": "dfqJ98Raxs6R"
      },
      "source": [
        "# Método FreqDist de NLTK"
      ]
    },
    {
      "cell_type": "code",
      "metadata": {
        "id": "C4gwhQE0oCZY"
      },
      "source": [
        "fdist = FreqDist(text1)"
      ],
      "execution_count": 37,
      "outputs": []
    },
    {
      "cell_type": "code",
      "metadata": {
        "colab": {
          "base_uri": "https://localhost:8080/"
        },
        "id": "MzTYiwYxyDR1",
        "outputId": "0b52ad0b-51d9-46ec-e2f7-b8497ac20a02"
      },
      "source": [
        "fdist.most_common(20)"
      ],
      "execution_count": 38,
      "outputs": [
        {
          "output_type": "execute_result",
          "data": {
            "text/plain": [
              "[(',', 18713),\n",
              " ('the', 13721),\n",
              " ('.', 6862),\n",
              " ('of', 6536),\n",
              " ('and', 6024),\n",
              " ('a', 4569),\n",
              " ('to', 4542),\n",
              " (';', 4072),\n",
              " ('in', 3916),\n",
              " ('that', 2982),\n",
              " (\"'\", 2684),\n",
              " ('-', 2552),\n",
              " ('his', 2459),\n",
              " ('it', 2209),\n",
              " ('I', 2124),\n",
              " ('s', 1739),\n",
              " ('is', 1695),\n",
              " ('he', 1661),\n",
              " ('with', 1659),\n",
              " ('was', 1632)]"
            ]
          },
          "metadata": {},
          "execution_count": 38
        }
      ]
    },
    {
      "cell_type": "code",
      "metadata": {
        "colab": {
          "base_uri": "https://localhost:8080/",
          "height": 291
        },
        "id": "nsQbD0udz3FL",
        "outputId": "319c0c5c-2046-4b94-d5de-eadc9bb6c623"
      },
      "source": [
        "fdist.plot(20)"
      ],
      "execution_count": 39,
      "outputs": [
        {
          "output_type": "display_data",
          "data": {
            "image/png": "[encoded data removed]",
            "text/plain": [
              "<Figure size 432x288 with 1 Axes>"
            ]
          },
          "metadata": {
            "needs_background": "light"
          }
        }
      ]
    },
    {
      "cell_type": "code",
      "metadata": {
        "colab": {
          "base_uri": "https://localhost:8080/"
        },
        "id": "PuGV2uWg0OCh",
        "outputId": "f4430396-6a2f-4265-afb5-c97e5915f0ff"
      },
      "source": [
        "fdist['monster']"
      ],
      "execution_count": 40,
      "outputs": [
        {
          "output_type": "execute_result",
          "data": {
            "text/plain": [
              "49"
            ]
          },
          "metadata": {},
          "execution_count": 40
        }
      ]
    },
    {
      "cell_type": "markdown",
      "metadata": {
        "id": "yj7eqO6K3wWt"
      },
      "source": [
        "# Distribuciones sobre contenido con filtro-fino\n",
        "\n",
        "\n",
        "*   Como vimos en la sección anterior, los tokens más frecuentes en un texto no son necesariamente las palabras que más información nos arrojan sobre el contenido del mismo.\n",
        "*   Por ello, es mejor filtrar y construir distribuciones de frecuencia que no consideren signos de puntuación o caracteres especiales.\n",
        "\n"
      ]
    },
    {
      "cell_type": "code",
      "metadata": {
        "colab": {
          "base_uri": "https://localhost:8080/"
        },
        "id": "JVzk1hMw0Yka",
        "outputId": "5d9e1bdc-d0a7-4990-bbcb-f095d4c72bce"
      },
      "source": [
        "long_words = [palabra for palabra in text1 if len(palabra)>5]\n",
        "vocabulario_filtrado = sorted(set(long_words))\n",
        "vocabulario_filtrado[:10]"
      ],
      "execution_count": 45,
      "outputs": [
        {
          "output_type": "execute_result",
          "data": {
            "text/plain": [
              "['ACCOUNT',\n",
              " 'ADDITIONAL',\n",
              " 'ADVANCING',\n",
              " 'ADVENTURES',\n",
              " 'AFFGHANISTAN',\n",
              " 'AFRICA',\n",
              " 'AGAINST',\n",
              " 'ALFRED',\n",
              " 'ALGERINE',\n",
              " 'AMERICA']"
            ]
          },
          "metadata": {},
          "execution_count": 45
        }
      ]
    },
    {
      "cell_type": "markdown",
      "metadata": {
        "id": "cawZ68H-5Lol"
      },
      "source": [
        "Podemos ahora construir con una lista de tuplas, basados en los conteos ya pre-calculados de la función FreqDist, así:\n",
        "\n",
        "fdist_filtrado = [('account', 2), ('additional', 32), ('advancing', 5), ...]\n",
        "\n",
        "Luego podemos convertir el objeto creado a formato de np.array de **Numpy** para poder hacer un sort por palabras más frecuentes.\n",
        "\n",
        "fdist_filtrado = np.array(fdist_filtrado, *args)\n",
        "np.sort(fdist_filtrado, *args) = [('account', 2), ('advancing', 5), ('additional', 32), ...]"
      ]
    },
    {
      "cell_type": "code",
      "metadata": {
        "colab": {
          "base_uri": "https://localhost:8080/"
        },
        "id": "pq838zX1AnT9",
        "outputId": "8f5dcfc2-d4b9-41c1-8886-0e8e56eeaf9d"
      },
      "source": [
        "palabras_interesantes = [(palabra, fdist[palabra]) for palabra in set(text1) if len(palabra)>5 and fdist[palabra]>10]\n",
        "dtypes = [('word', 'S10'), ('frequency', int)]\n",
        "palabras_interesantes = np.array(palabras_interesantes, dtype = dtypes)\n",
        "palabras_interesantes = np.sort(palabras_interesantes, order = 'frequency')\n",
        "palabras_interesantes"
      ],
      "execution_count": 53,
      "outputs": [
        {
          "output_type": "execute_result",
          "data": {
            "text/plain": [
              "array([(b'America',  11), (b'Father',  11), (b'Fleece',  11),\n",
              "       (b'Guernsey',  11), (b'Heaven',  11), (b'NANTUCKET',  11),\n",
              "       (b'Perseus',  11), (b'Ramadan',  11), (b'Therefore',  11),\n",
              "       (b'additional',  11), (b'advanced',  11), (b'appearance',  11),\n",
              "       (b'baleen',  11), (b'barbaric',  11), (b'beating',  11),\n",
              "       (b'begins',  11), (b'beholding',  11), (b'belong',  11),\n",
              "       (b'blackness',  11), (b'blanket',  11), (b'blessed',  11),\n",
              "       (b'butter',  11), (b'central',  11), (b'clothes',  11),\n",
              "       (b'coiled',  11), (b'commotion',  11), (b'concluding',  11),\n",
              "       (b'contact',  11), (b'convenient',  11), (b'covered',  11),\n",
              "       (b'cursed',  11), (b'demanded',  11), (b'desired',  11),\n",
              "       (b'direct',  11), (b'element',  11), (b'elevated',  11),\n",
              "       (b'elsewhere',  11), (b'excellent',  11), (b'experience',  11),\n",
              "       (b'fashion',  11), (b'fashioned',  11), (b'fastened',  11),\n",
              "       (b'features',  11), (b'fellows',  11), (b'fierce',  11),\n",
              "       (b'fifteen',  11), (b'firmly',  11), (b'floats',  11),\n",
              "       (b'forget',  11), (b'freely',  11), (b'ginger',  11),\n",
              "       (b'hearse',  11), (b'helmsman',  11), (b'hoisting',  11),\n",
              "       (b'horses',  11), (b'included',  11), (b'indifferen',  11),\n",
              "       (b'indispensa',  11), (b'infallibly',  11), (b'invariably',  11),\n",
              "       (b'leading',  11), (b'lengthwise',  11), (b'lovely',  11),\n",
              "       (b'monomaniac',  11), (b'mostly',  11), (b'nailed',  11),\n",
              "       (b'naturalist',  11), (b'needles',  11), (b'nights',  11),\n",
              "       (b'notice',  11), (b'noticed',  11), (b'objects',  11),\n",
              "       (b'observe',  11), (b'obvious',  11), (b'pacing',  11),\n",
              "       (b'peculiarit',  11), (b'perpendicu',  11), (b'picked',  11),\n",
              "       (b'prairie',  11), (b'prolonged',  11), (b'reasons',  11),\n",
              "       (b'receiving',  11), (b'reference',  11), (b'replied',  11),\n",
              "       (b'repose',  11), (b'seizing',  11), (b'service',  11),\n",
              "       (b'setting',  11), (b'shipmate',  11), (b'shipped',  11),\n",
              "       (b'significan',  11), (b'simple',  11), (b'singing',  11),\n",
              "       (b'smaller',  11), (b'smells',  11), (b'social',  11),\n",
              "       (b'spiritual',  11), (b'spouting',  11), (b'steadily',  11),\n",
              "       (b'straightwa',  11), (b'straits',  11), (b'stream',  11),\n",
              "       (b'strongly',  11), (b'subtle',  11), (b'sunrise',  11),\n",
              "       (b'swells',  11), (b'symbol',  11), (b'tackle',  11),\n",
              "       (b'temporary',  11), (b'tongue',  11), (b'trouble',  11),\n",
              "       (b'valuable',  11), (b'vengeance',  11), (b'vocation',  11),\n",
              "       (b'wanting',  11), (b'welded',  11), (b'whispered',  11),\n",
              "       (b'wicked',  11), (b'worship',  11), (b'written',  11),\n",
              "       (b'Derick',  12), (b'Manxman',  12), (b'afloat',  12),\n",
              "       (b'ambergris',  12), (b'arrived',  12), (b'becomes',  12),\n",
              "       (b'bowels',  12), (b'burning',  12), (b'bursting',  12),\n",
              "       (b'calling',  12), (b'capstan',  12), (b'caused',  12),\n",
              "       (b'centuries',  12), (b'clouds',  12), (b'conduct',  12),\n",
              "       (b'connected',  12), (b'conscience',  12), (b'contrary',  12),\n",
              "       (b'contrast',  12), (b'countenanc',  12), (b'descend',  12),\n",
              "       (b'desperate',  12), (b'doubtless',  12), (b'downwards',  12),\n",
              "       (b'drowned',  12), (b'eating',  12), (b'enchanted',  12),\n",
              "       (b'exceeding',  12), (b'external',  12), (b'falling',  12),\n",
              "       (b'family',  12), (b'fearful',  12), (b'fitted',  12),\n",
              "       (b'glancing',  12), (b'greatest',  12), (b'grounds',  12),\n",
              "       (b'happens',  12), (b'hearted',  12), (b'heaved',  12),\n",
              "       (b'horror',  12), (b'howling',  12), (b'insult',  12),\n",
              "       (b'interior',  12), (b'involuntar',  12), (b'islands',  12),\n",
              "       (b'keeping',  12), (b'knowledge',  12), (b'ladder',  12),\n",
              "       (b'landed',  12), (b'lantern',  12), (b'lesson',  12),\n",
              "       (b'letter',  12), (b'loaded',  12), (b'lonely',  12),\n",
              "       (b'malice',  12), (b'meanwhile',  12), (b'moments',  12),\n",
              "       (b'morrow',  12), (b'motions',  12), (b'mountain',  12),\n",
              "       (b'murmured',  12), (b'narrow',  12), (b'nations',  12),\n",
              "       (b'naturally',  12), (b'offered',  12), (b'painted',  12),\n",
              "       (b'please',  12), (b'pocket',  12), (b'prepared',  12),\n",
              "       (b'reaching',  12), (b'resting',  12), (b'scarce',  12),\n",
              "       (b'secure',  12), (b'seeking',  12), (b'settled',  12),\n",
              "       (b'shoulder',  12), (b'sights',  12), (b'solemn',  12),\n",
              "       (b'sounds',  12), (b'strain',  12), (b'stranded',  12),\n",
              "       (b'sweeping',  12), (b'tapering',  12), (b'tossing',  12),\n",
              "       (b'unearthly',  12), (b'unusual',  12), (b'upright',  12),\n",
              "       (b'voyages',  12), (b'watches',  12), (b'winter',  12),\n",
              "       (b'Bunger',  13), (b'London',  13), (b'Nothing',  13),\n",
              "       (b'belonged',  13), (b'breakfast',  13), (b'calmly',  13),\n",
              "       (b'chanced',  13), (b'circles',  13), (b'conceit',  13),\n",
              "       (b'crossed',  13), (b'dangerous',  13), (b'extreme',  13),\n",
              "       (b'fathoms',  13), (b'finger',  13), (b'forming',  13),\n",
              "       (b'gliding',  13), (b'greater',  13), (b'hither',  13),\n",
              "       (b'indirectly',  13), (b'individual',  13), (b'ladies',  13),\n",
              "       (b'latitude',  13), (b'leaned',  13), (b'leaped',  13),\n",
              "       (b'lighted',  13), (b'lively',  13), (b'mankind',  13),\n",
              "       (b'manned',  13), (b'matters',  13), (b'mounted',  13),\n",
              "       (b'moving',  13), (b'naught',  13), (b'partly',  13),\n",
              "       (b'pictures',  13), (b'planted',  13), (b'ponderous',  13),\n",
              "       (b'practical',  13), (b'presently',  13), (b'private',  13),\n",
              "       (b'prophet',  13), (b'pulled',  13), (b'quantity',  13),\n",
              "       (b'readily',  13), (b'remarkable',  13), (b'resolved',  13),\n",
              "       (b'return',  13), (b'roared',  13), (b'seaman',  13),\n",
              "       (b'season',  13), (b'shoulders',  13), (b'silver',  13),\n",
              "       (b'sinking',  13), (b'slightly',  13), (b'sooner',  13),\n",
              "       (b'sounding',  13), (b'spoken',  13), (b'sprang',  13),\n",
              "       (b'square',  13), (b'subsequent',  13), (b'swallowed',  13),\n",
              "       (b'swinging',  13), (b'theirs',  13), (b'tiller',  13),\n",
              "       (b'touched',  13), (b'trowsers',  13), (b'utterly',  13),\n",
              "       (b'volume',  13), (b'wonders',  13), (b'Coffin',  14),\n",
              "       (b'anywhere',  14), (b'behold',  14), (b'buried',  14),\n",
              "       (b'canvas',  14), (b'capture',  14), (b'carved',  14),\n",
              "       (b'character',  14), (b'chased',  14), (b'closely',  14),\n",
              "       (b'considered',  14), (b'continual',  14), (b'continued',  14),\n",
              "       (b'corpse',  14), (b'critical',  14), (b'customary',  14),\n",
              "       (b'darting',  14), (b'declared',  14), (b'deemed',  14),\n",
              "       (b'departed',  14), (b'entered',  14), (b'fingers',  14),\n",
              "       (b'frequently',  14), (b'future',  14), (b'gained',  14),\n",
              "       (b'glided',  14), (b'handle',  14), (b'honest',  14),\n",
              "       (b'horrible',  14), (b'immediatel',  14), (b'immortal',  14),\n",
              "       (b'intent',  14), (b'latter',  14), (b'leaping',  14),\n",
              "       (b'marble',  14), (b'occasional',  14), (b'oceans',  14),\n",
              "       (b'opening',  14), (b'opinion',  14), (b'perceived',  14),\n",
              "       (b'phantom',  14), (b'points',  14), (b'probably',  14),\n",
              "       (b'proceed',  14), (b'returned',  14), (b'silently',  14),\n",
              "       (b'simultaneo',  14), (b'summer',  14), (b'superior',  14),\n",
              "       (b'terrific',  14), (b'tormented',  14), (b'towing',  14),\n",
              "       (b'unseen',  14), (b'whence',  14), (b'whenever',  14),\n",
              "       (b'whereas',  14), (b'wrinkled',  14), (b'Elijah',  15),\n",
              "       (b'German',  15), (b'However',  15), (b'Whether',  15),\n",
              "       (b'afraid',  15), (b'boiling',  15), (b'bucket',  15),\n",
              "       (b'carrying',  15), (b'consider',  15), (b'coward',  15),\n",
              "       (b'cunning',  15), (b'dinner',  15), (b'direction',  15),\n",
              "       (b'disappeare',  15), (b'effect',  15), (b'employed',  15),\n",
              "       (b'endless',  15), (b'events',  15), (b'exceedingl',  15),\n",
              "       (b'exclaimed',  15), (b'flames',  15), (b'frantic',  15),\n",
              "       (b'heaving',  15), (b'helped',  15), (b'history',  15),\n",
              "       (b'horizontal',  15), (b'immense',  15), (b'impossible',  15),\n",
              "       (b'invisible',  15), (b'latitudes',  15), (b'marvellous',  15),\n",
              "       (b'measure',  15), (b'mention',  15), (b'merchant',  15),\n",
              "       (b'monkey',  15), (b'nearer',  15), (b'oarsman',  15),\n",
              "       (b'officer',  15), (b'ourselves',  15), (b'perilous',  15),\n",
              "       (b'position',  15), (b'pulpit',  15), (b'pushed',  15),\n",
              "       (b'remember',  15), (b'rushed',  15), (b'secured',  15),\n",
              "       (b'shadow',  15), (b'shadows',  15), (b'special',  15),\n",
              "       (b'spirit',  15), (b'streets',  15), (b'supposed',  15),\n",
              "       (b'thereby',  15), (b'troubled',  15), (b'utmost',  15),\n",
              "       (b'vapour',  15), (b'violent',  15), (b'watching',  15),\n",
              "       (b'window',  15), (b'working',  15), (b'wrinkles',  15),\n",
              "       (b'Hussey',  16), (b'Meanwhile',  16), (b'actually',  16),\n",
              "       (b'animal',  16), (b'barrels',  16), (b'binnacle',  16),\n",
              "       (b'breaking',  16), (b'careful',  16), (b'carries',  16),\n",
              "       (b'civilized',  16), (b'colour',  16), (b'commander',  16),\n",
              "       (b'corner',  16), (b'crossing',  16), (b'devils',  16),\n",
              "       (b'distinct',  16), (b'double',  16), (b'dragged',  16),\n",
              "       (b'dropping',  16), (b'earthly',  16), (b'encounter',  16),\n",
              "       (b'encountere',  16), (b'fairly',  16), (b'father',  16),\n",
              "       (b'foolish',  16), (b'friends',  16), (b'furnished',  16),\n",
              "       (b'gallant',  16), (b'happened',  16), (b'hitherto',  16),\n",
              "       (b'hunter',  16), (b'knowing',  16), (b'lifted',  16),\n",
              "       (b'locked',  16), (b'madness',  16), (b'mariner',  16),\n",
              "       (b'missing',  16), (b'neither',  16), (b'numerous',  16),\n",
              "       (b'originally',  16), (b'paused',  16), (b'pleasant',  16),\n",
              "       (b'plenty',  16), (b'proved',  16), (b'putting',  16),\n",
              "       (b'respect',  16), (b'scientific',  16), (b'showed',  16),\n",
              "       (b'spermaceti',  16), (b'spouts',  16), (b'starboard',  16),\n",
              "       (b'steward',  16), (b'stricken',  16), (b'stroke',  16),\n",
              "       (b'thinks',  16), (b'thousands',  16), (b'twelve',  16),\n",
              "       (b'unaccounta',  16), (b'uncommon',  16), (b'virtue',  16),\n",
              "       (b'whaler',  16), (b'yonder',  16), (b'affair',  17),\n",
              "       (b'captured',  17), (b'compass',  17), (b'continuall',  17),\n",
              "       (b'doubloon',  17), (b'elephant',  17), (b'heavens',  17),\n",
              "       (b'height',  17), (b'inserted',  17), (b'instantly',  17),\n",
              "       (b'likewise',  17), (b'lowering',  17), (b'meaning',  17),\n",
              "       (b'minute',  17), (b'months',  17), (b'mother',  17),\n",
              "       (b'motion',  17), (b'muttered',  17), (b'mystic',  17),\n",
              "       (b'native',  17), (b'oarsmen',  17), (b'opposite',  17),\n",
              "       (b'previously',  17), (b'rushing',  17), (b'shouted',  17),\n",
              "       (b'silence',  17), (b'tackles',  17), (b'thrust',  17),\n",
              "       (b'tomahawk',  17), (b'trying',  17), (b'understand',  17),\n",
              "       (b'weight',  17), (b'Bedford',  18), (b'Christian',  18),\n",
              "       (b'French',  18), (b'advancing',  18), (b'breath',  18),\n",
              "       (b'cannibal',  18), (b'chains',  18), (b'children',  18),\n",
              "       (b'content',  18), (b'difference',  18), (b'engaged',  18),\n",
              "       (b'evening',  18), (b'example',  18), (b'floated',  18),\n",
              "       (b'follow',  18), (b'forced',  18), (b'golden',  18),\n",
              "       (b'horizon',  18), (b'inside',  18), (b'instance',  18),\n",
              "       (b'intense',  18), (b'interest',  18), (b'longer',  18),\n",
              "       (b'marked',  18), (b'mentioned',  18), (b'merely',  18),\n",
              "       (b'modern',  18), (b'nameless',  18), (b'observed',  18),\n",
              "       (b'period',  18), (b'picture',  18), (b'pieces',  18),\n",
              "       (b'precious',  18), (b'prodigious',  18), (b'quietly',  18),\n",
              "       (b'regularly',  18), (b'revealed',  18), (b'seized',  18),\n",
              "       (b'smoking',  18), (b'sought',  18), (b'squall',  18),\n",
              "       (b'Atlantic',  19), (b'Because',  19), (b'Ishmael',  19),\n",
              "       (b'Meantime',  19), (b'beginning',  19), (b'blacksmith',  19),\n",
              "       (b'captains',  19), (b'chiefly',  19), (b'concluded',  19),\n",
              "       (b'deeper',  19), (b'dignity',  19), (b'eternal',  19),\n",
              "       (b'figure',  19), (b'hanging',  19), (b'hunted',  19),\n",
              "       (b'important',  19), (b'largest',  19), (b'leaves',  19),\n",
              "       (b'ordinary',  19), (b'owners',  19), (b'pointing',  19),\n",
              "       (b'precise',  19), (b'presented',  19), (b'rapidly',  19),\n",
              "       (b'reached',  19), (b'solitary',  19), (b'subject',  19),\n",
              "       (b'swiftly',  19), (b'telling',  19), (b'terrors',  19),\n",
              "       (b'upwards',  19), (b'vicinity',  19), (b'whalers',  19),\n",
              "       (b'England',  20), (b'Gabriel',  20), (b'aboard',  20),\n",
              "       (b'according',  20), (b'attached',  20), (b'besides',  20),\n",
              "       (b'billows',  20), (b'breeze',  20), (b'directly',  20),\n",
              "       (b'everything',  20), (b'former',  20), (b'gentleman',  20),\n",
              "       (b'gigantic',  20), (b'hollow',  20), (b'inches',  20),\n",
              "       (b'lowered',  20), (b'officers',  20), (b'places',  20),\n",
              "       (b'profound',  20), (b'raised',  20), (b'repeated',  20),\n",
              "       (b'separate',  20), (b'sleeping',  20), (b'slightest',  20),\n",
              "       (b'advance',  21), (b'anchor',  21), (b'beheld',  21),\n",
              "       (b'distant',  21), (b'evinced',  21), (b'gunwale',  21),\n",
              "       (b'hailed',  21), (b'invested',  21), (b'magnitude',  21),\n",
              "       (b'minutes',  21), (b'original',  21), (b'passing',  21),\n",
              "       (b'quickly',  21), (b'sitting',  21), (b'terrible',  21),\n",
              "       (b'terror',  21), (b'windlass',  21), (b'Nantuckete',  22),\n",
              "       (b'Radney',  22), (b'answered',  22), (b'centre',  22),\n",
              "       (b'dashed',  22), (b'deadly',  22), (b'descried',  22),\n",
              "       (b'filled',  22), (b'formed',  22), (b'gazing',  22),\n",
              "       (b'jacket',  22), (b'pulling',  22), (b'scuttle',  22),\n",
              "       (b'seventy',  22), (b'shipmates',  22), (b'windward',  22),\n",
              "       (b'wonderful',  22), (b'yellow',  22), (b'answer',  23),\n",
              "       (b'beyond',  23), (b'chapter',  23), (b'commanded',  23),\n",
              "       (b'during',  23), (b'finally',  23), (b'following',  23),\n",
              "       (b'headed',  23), (b'hidden',  23), (b'higher',  23),\n",
              "       (b'honour',  23), (b'instead',  23), (b'lances',  23),\n",
              "       (b'master',  23), (b'neverthele',  23), (b'regarded',  23),\n",
              "       (b'remain',  23), (b'somewhere',  23), (b'speaking',  23),\n",
              "       (b'strength',  23), (b'striking',  23), (b'thunder',  23),\n",
              "       (b'Lakeman',  24), (b'afterwards',  24), (b'became',  24),\n",
              "       (b'bright',  24), (b'circle',  24), (b'different',  24),\n",
              "       (b'escape',  24), (b'exactly',  24), (b'floating',  24),\n",
              "       (b'midnight',  24), (b'orders',  24), (b'perils',  24),\n",
              "       (b'pursuit',  24), (b'regular',  24), (b'remains',  24),\n",
              "       (b'secret',  24), (b'seldom',  24), (b'spread',  24),\n",
              "       (b'thyself',  24), (b'watery',  24), (b'bearing',  25),\n",
              "       (b'believe',  25), (b'complete',  25), (b'country',  25),\n",
              "       (b'cruising',  25), (b'friend',  25), (b'hinted',  25),\n",
              "       (b'interval',  25), (b'leaning',  25), (b'learned',  25),\n",
              "       (b'number',  25), (b'silent',  25), (b'similar',  25),\n",
              "       (b'steady',  25), (b'supper',  25), (b'thinking',  25),\n",
              "       (b'thrown',  25), (b'bodily',  26), (b'circumstan',  26),\n",
              "       (b'circumstan',  26), (b'considerab',  26), (b'degree',  26),\n",
              "       (b'enormous',  26), (b'followed',  26), (b'getting',  26),\n",
              "       (b'giving',  26), (b'lightning',  26), (b'otherwise',  26),\n",
              "       (b'received',  26), (b'seated',  26), (b'started',  26),\n",
              "       (b'thirty',  26), (b'vessels',  26), (b'whiteness',  26),\n",
              "       (b'wooden',  26), (b'yourself',  26), (b'Fedallah',  27),\n",
              "       (b'Neverthele',  27), (b'alongside',  27), (b'certainly',  27),\n",
              "       (b'dropped',  27), (b'eyeing',  27), (b'island',  27),\n",
              "       (b'landlord',  27), (b'overboard',  27), (b'precisely',  27),\n",
              "       (b'sideways',  27), (b'somewhat',  27), (b'suspended',  27),\n",
              "       (b'wholly',  27), (b'Parsee',  28), (b'already',  28),\n",
              "       (b'ancient',  28), (b'astern',  28), (b'become',  28),\n",
              "       (b'command',  28), (b'considerin',  28), (b'feeling',  28),\n",
              "       (b'fishermen',  28), (b'glance',  28), (b'hunters',  28),\n",
              "       (b'leeward',  28), (b'person',  28), (b'pretty',  28),\n",
              "       (b'seeing',  28), (b'spring',  28), (b'strike',  28),\n",
              "       (b'Whales',  29), (b'altogether',  29), (b'battle',  29),\n",
              "       (b'entirely',  29), (b'flying',  29), (b'hearts',  29),\n",
              "       (b'mariners',  29), (b'pointed',  29), (b'possibly',  29),\n",
              "       (b'question',  29), (b'rising',  29), (b'stands',  29),\n",
              "       (b'strangely',  29), (b'swimming',  29), (b'unless',  29),\n",
              "       (b'Besides',  30), (b'carried',  30), (b'generally',  30),\n",
              "       (b'hammer',  30), (b'harpoons',  30), (b'hoisted',  30),\n",
              "       (b'instances',  30), (b'possible',  30), (b'really',  30),\n",
              "       (b'across',  31), (b'darkness',  31), (b'except',  31),\n",
              "       (b'hardly',  31), (b'leviathan',  31), (b'natural',  31),\n",
              "       (b'planks',  31), (b'species',  31), (b'substance',  31),\n",
              "       (b'tossed',  31), (b'Pacific',  32), (b'SAILOR',  32),\n",
              "       (b'account',  32), (b'drawing',  32), (b'intervals',  32),\n",
              "       (b'passage',  32), (b'proper',  32), (b'visible',  32),\n",
              "       (b'ashore',  33), (b'company',  33), (b'completely',  33),\n",
              "       (b'hammock',  33), (b'killed',  33), (b'nearly',  33),\n",
              "       (b'rigging',  33), (b'sailing',  33), (b'skeleton',  33),\n",
              "       (b'twenty',  33), (b'American',  34), (b'Daggoo',  34),\n",
              "       (b'blubber',  34), (b'creatures',  34), (b'forecastle',  34),\n",
              "       (b'holding',  34), (b'nature',  34), (b'previous',  34),\n",
              "       (b'remained',  34), (b'strong',  34), (b'thoughts',  34),\n",
              "       (b'wonder',  34), (b'Greenland',  35), (b'cutting',  35),\n",
              "       (b'famous',  35), (b'middle',  35), (b'rolling',  35),\n",
              "       (b'suppose',  35), (b'weather',  35), (b'around',  36),\n",
              "       (b'aspect',  36), (b'bulwarks',  36), (b'coffin',  36),\n",
              "       (b'flukes',  36), (b'placed',  36), (b'unknown',  36),\n",
              "       (b'various',  36), (b'forehead',  37), (b'gentlemen',  37),\n",
              "       (b'manner',  37), (b'others',  37), (b'brought',  38),\n",
              "       (b'concerning',  38), (b'darted',  38), (b'leaving',  38),\n",
              "       (b'sailed',  38), (b'carpenter',  39), (b'distance',  39),\n",
              "       (b'either',  39), (b'mortal',  39), (b'object',  39),\n",
              "       (b'plainly',  39), (b'purpose',  39), (b'single',  39),\n",
              "       (b'Steelkilt',  40), (b'heaven',  40), (b'saying',  40),\n",
              "       (b'anything',  41), (b'course',  41), (b'passed',  41),\n",
              "       (b'wondrous',  41), (b'creature',  42), (b'people',  42),\n",
              "       (b'sudden',  42), (b'surface',  42), (b'rolled',  43),\n",
              "       (b'seamen',  43), (b'somehow',  43), (b'caught',  44),\n",
              "       (b'especially',  44), (b'quarter',  44), (b'running',  44),\n",
              "       (b'whaleman',  44), (b'whatever',  44), (b'making',  45),\n",
              "       (b'suddenly',  45), (b'touching',  45), (b'English',  46),\n",
              "       (b'chance',  46), (b'several',  46), (b'straight',  46),\n",
              "       (b'mighty',  47), (b'slowly',  47), (b'struck',  47),\n",
              "       (b'common',  48), (b'forward',  48), (b'stranger',  48),\n",
              "       (b'Though',  49), (b'ground',  49), (b'monster',  49),\n",
              "       (b'particular',  49), (b'sailor',  49), (b'behind',  50),\n",
              "       (b'broken',  50), (b'coming',  50), (b'hundred',  50),\n",
              "       (b'sailors',  50), (b'sharks',  50), (b'taking',  50),\n",
              "       (b'thousand',  51), (b'bottom',  52), (b'turning',  52),\n",
              "       (b'curious',  53), (b'fellow',  53), (b'Tashtego',  54),\n",
              "       (b'fishery',  54), (b'savage',  54), (b'second',  54),\n",
              "       (b'vessel',  54), (b'entire',  55), (b'harpooneer',  55),\n",
              "       (b'peculiar',  56), (b'therefore',  56), (b'Indian',  57),\n",
              "       (b'further',  59), (b'themselves',  59), (b'better',  60),\n",
              "       (b'having',  62), (b'Leviathan',  64), (b'looked',  64),\n",
              "       (b'reason',  64), (b'together',  64), (b'general',  65),\n",
              "       (b'turned',  66), (b'business',  67), (b'looking',  68),\n",
              "       (b'morning',  68), (b'myself',  68), (b'rather',  68),\n",
              "       (b'cannot',  69), (b'waters',  69), (b'whalemen',  71),\n",
              "       (b'because',  73), (b'living',  73), (b'standing',  73),\n",
              "       (b'beneath',  74), (b'enough',  74), (b'Bildad',  76),\n",
              "       (b'harpoon',  76), (b'whether',  76), (b'harpooneer',  77),\n",
              "       (b'instant',  77), (b'length',  78), (b'within',  78),\n",
              "       (b'always',  80), (b'however',  80), (b'present',  80),\n",
              "       (b'sometimes',  81), (b'indeed',  82), (b'perhaps',  82),\n",
              "       (b'itself',  84), (b'Nantucket',  85), (b'matter',  86),\n",
              "       (b'certain',  87), (b'voyage',  93), (b'strange',  96),\n",
              "       (b'nothing', 102), (b'moment', 105), (b'another', 106),\n",
              "       (b'towards', 107), (b'captain', 112), (b'called', 116),\n",
              "       (b'whaling', 116), (b'between', 117), (b'something', 119),\n",
              "       (b'against', 132), (b'things', 132), (b'thought', 149),\n",
              "       (b'CHAPTER', 150), (b'without', 154), (b'Pequod', 172),\n",
              "       (b'should', 181), (b'almost', 186), (b'Starbuck', 196),\n",
              "       (b'himself', 203), (b'Captain', 215), (b'through', 227),\n",
              "       (b'whales', 237), (b'little', 247), (b'Queequeg', 252),\n",
              "       (b'seemed', 283), (b'before', 293), (b'though', 335)],\n",
              "      dtype=[('word', 'S10'), ('frequency', '<i8')])"
            ]
          },
          "metadata": {},
          "execution_count": 53
        }
      ]
    },
    {
      "cell_type": "code",
      "metadata": {
        "id": "DwJj02uUJMwS"
      },
      "source": [
        "# Construccion de un grafico de barras customizado con Matplotlib"
      ],
      "execution_count": 54,
      "outputs": []
    },
    {
      "cell_type": "code",
      "metadata": {
        "colab": {
          "base_uri": "https://localhost:8080/",
          "height": 374
        },
        "id": "N5BN5vOSK5XS",
        "outputId": "ca412591-fcdb-455c-cbea-4b24d1862c59"
      },
      "source": [
        "top_words = 20\n",
        "x = np.arange(len(palabras_interesantes[-top_words:]))\n",
        "y = [freq[1] for freq in palabras_interesantes[-top_words:]]\n",
        "plt.figure(figsize=(10, 5))\n",
        "plt.plot(x, y)\n",
        "plt.xticks(x, [str(freq[0]) for freq in palabras_interesantes[-top_words:]], rotation = 'vertical')\n",
        "plt.grid(True)\n",
        "plt.show()"
      ],
      "execution_count": 56,
      "outputs": [
        {
          "output_type": "display_data",
          "data": {
            "image/png": "[encoded data removed]",
            "text/plain": [
              "<Figure size 720x360 with 1 Axes>"
            ]
          },
          "metadata": {
            "needs_background": "light"
          }
        }
      ]
    },
    {
      "cell_type": "code",
      "metadata": {
        "id": "i7kK1CPUPGIA"
      },
      "source": [
        ""
      ],
      "execution_count": null,
      "outputs": []
    }
  ]
}